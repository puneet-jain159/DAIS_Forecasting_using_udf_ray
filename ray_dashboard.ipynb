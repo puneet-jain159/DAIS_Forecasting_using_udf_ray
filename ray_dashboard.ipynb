{
 "cells": [
  {
   "cell_type": "code",
   "execution_count": 0,
   "metadata": {
    "application/vnd.databricks.v1+cell": {
     "cellMetadata": {},
     "inputWidgets": {},
     "nuid": "8cef3b20-466f-434a-8f17-a5a17084e57a",
     "showTitle": false,
     "title": ""
    }
   },
   "outputs": [],
   "source": [
    "import os\n",
    "base_url='https://' + spark.conf.get(\"spark.databricks.workspaceUrl\")\n",
    "workspace_id=spark.conf.get(\"spark.databricks.clusterUsageTags.orgId\")\n",
    "cluster_id=spark.conf.get(\"spark.databricks.clusterUsageTags.clusterId\")\n",
    "dashboard_port='8501'\n",
    "\n",
    "pathname_prefix='/driver-proxy/o/' + workspace_id + '/' + cluster_id + '/' + dashboard_port+\"/\" \n",
    "  \n",
    "apitoken = dbutils.notebook().entry_point.getDbutils().notebook().getContext().apiToken().get()\n",
    "dashboard_url=base_url + pathname_prefix  # ?token=' + apitoken[0:10] + \" \" + apitoken[10:]\n",
    "\n",
    "#os.environ['STREAMLIT_REQUESTS_PATHNAME_PREFIX'] = pathname_prefix\n",
    "#print(os.environ.get('STREAMLIT_REQUESTS_PATHNAME_PREFIX'))\n",
    "print(\"Once the dashbord is running, it can be accessed at this link:\\n\\n\" + dashboard_url)\n",
    "\n",
    "displayHTML(\n",
    "    f\"\"\"\n",
    "  <div style=\"margin-bottom: 16px\">\n",
    "      <a href=\"{dashboard_url}\">\n",
    "          Open {\"Link to the Ray Dashboard\"} in a new tab\n",
    "      </a>\n",
    "  </div>\n",
    "\"\"\"\n",
    ")\n"
   ]
  },
  {
   "cell_type": "markdown",
   "metadata": {
    "application/vnd.databricks.v1+cell": {
     "cellMetadata": {},
     "inputWidgets": {},
     "nuid": "bd5336e7-5cde-4f9d-89be-c083177ccefe",
     "showTitle": false,
     "title": ""
    }
   },
   "source": [
    "# ML FLow Helper Functions"
   ]
  },
  {
   "cell_type": "code",
   "execution_count": 0,
   "metadata": {
    "application/vnd.databricks.v1+cell": {
     "cellMetadata": {},
     "inputWidgets": {},
     "nuid": "dc3e1db5-0f85-42d8-be81-708ad7dcee5f",
     "showTitle": false,
     "title": ""
    }
   },
   "outputs": [],
   "source": [
    "def get_or_create_experiment(experiment_location: str) -> None:\n",
    " \n",
    "  if not mlflow.get_experiment_by_name(experiment_location):\n",
    "    print(\"Experiment does not exist. Creating experiment\")\n",
    "    \n",
    "    mlflow.create_experiment(experiment_location)\n",
    "    \n",
    "  mlflow.set_experiment(experiment_location)\n",
    "  \n",
    "def get_new_run(experiment_location: str, run_name: str) -> str:\n",
    "  \"\"\"\n",
    "  Given an MLflow experiment location and a run name, create an \n",
    "  MLflow experiment run to which artifacts can be logged.\n",
    "  \"\"\"\n",
    "  \n",
    "  mlflow.set_experiment(experiment_location)\n",
    "  run = mlflow.start_run(run_name=run_name)\n",
    "  run_id = run.to_dictionary()['info']['run_id']\n",
    "  mlflow.end_run()\n",
    "  \n",
    "  return run_id"
   ]
  }
 ],
 "metadata": {
  "application/vnd.databricks.v1+notebook": {
   "dashboards": [],
   "language": "python",
   "notebookMetadata": {
    "pythonIndentUnit": 2
   },
   "notebookName": "ray_dashboard",
   "widgets": {}
  }
 },
 "nbformat": 4,
 "nbformat_minor": 0
}
